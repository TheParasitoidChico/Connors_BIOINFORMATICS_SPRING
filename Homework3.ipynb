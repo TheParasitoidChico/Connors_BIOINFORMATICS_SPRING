{
 "cells": [
  {
   "cell_type": "markdown",
   "metadata": {},
   "source": [
    "# Jypyter Notebooks and Python Refresh Homework 3\n",
    "We are going to do the Python Refresh Homework in a juypyter Notebook. In this homework we will review the basic principles of python programming. You will work through a few questions and build some scripts. You will need the Bloom et al Dataset found in this repository. For each question add a cell to put your answer in either as a text cell or a code cell following the question.\n",
    "\n",
    "### Markdown\n",
    "Here is a [markdown refresh](https://programminghistorian.org/en/lessons/getting-started-with-markdown)\n",
    "\n",
    "### General concepts to refresh and lessons to review if you need them:\n",
    "\n",
    "Here is a nice [Python_Refresh](https://pythonforbiologists.com/introduction) that goes over the majority of the basic python commands.\n",
    "\n",
    "Remember these Primers from Last Semester\n",
    "\n",
    "[Python_Primer1](https://github.com/tparchman/BIOL792_course_site/blob/master/week6_pythonI/python_1_primer.md) \n",
    "\n",
    "[Lists_for_loops](https://github.com/tparchman/BIOL792_course_site/blob/master/week7_pythonII/python_2_primer.md)\n",
    "\n",
    "[Input_Output](https://github.com/tparchman/BIOL792_course_site/blob/master/week8_python3/python_3_primer.md)\n",
    "\n",
    "[Dictionaries](https://github.com/tparchman/BIOL792_course_site/blob/master/week11_python6/primer_python6.md)\n",
    "\n",
    "\n",
    "### Remember these Common commands as you work through this exercise\n",
    "\tdata types\n",
    "\tlists and dictionaries \n",
    "\tif while and for loops\n",
    "\treading files\n",
    "\n"
   ]
  },
  {
   "cell_type": "markdown",
   "metadata": {},
   "source": [
    "## Part I: Questions"
   ]
  },
  {
   "cell_type": "markdown",
   "metadata": {},
   "source": [
    "1.\tName one of the basic building blocks of programming and a small definition."
   ]
  },
  {
   "cell_type": "markdown",
   "metadata": {},
   "source": [
    "classes are a way we can further define objects or elements, so that a given element/object/instance can have\n",
    "multiple properties\n",
    "\n",
    "elements are items within lists or elements, and can be comprised of basically anything"
   ]
  },
  {
   "cell_type": "markdown",
   "metadata": {},
   "source": [
    "2.\tMatch the data type to the appropriate data\n",
    "    \n",
    "    **Data type:** string, integer, boolean, floating point\n",
    "    \n",
    "    **Data:** true, 123, 'I am a programmer', 34.63221\n"
   ]
  },
  {
   "cell_type": "code",
   "execution_count": null,
   "metadata": {},
   "outputs": [],
   "source": [
    "#(string: 'I am a programmer'),\n",
    "#(boolean:'true'),\n",
    "#(integer:'123'),\n",
    "#(floating_point:'34.63221')}"
   ]
  },
  {
   "cell_type": "markdown",
   "metadata": {},
   "source": [
    "3.\tWhat would I get if I did tried to add these to numbers together ```123``` and ```5```.\n",
    "\t\t\n",
    "\t\ta) if the numbers were formatted as strings\n",
    "\t\t\n",
    "\t\tb) if they were formatted as integers"
   ]
  },
  {
   "cell_type": "code",
   "execution_count": 7,
   "metadata": {
    "scrolled": true
   },
   "outputs": [
    {
     "name": "stdout",
     "output_type": "stream",
     "text": [
      "128\n",
      "when they are ints, you get a sum\n"
     ]
    }
   ],
   "source": [
    "i = 123 + 5\n",
    "statement = 'when they are integers, you get a sum'\n",
    "answer = [i, statement]\n",
    "for e in answer:\n",
    "    print(e)"
   ]
  },
  {
   "cell_type": "code",
   "execution_count": 8,
   "metadata": {},
   "outputs": [
    {
     "name": "stdout",
     "output_type": "stream",
     "text": [
      "1235\n",
      "when they are strings, they concatenate into a single string\n"
     ]
    }
   ],
   "source": [
    "i = '123' + '5'\n",
    "statement = 'when they are strings, they concatenate into a single string'\n",
    "answer = [i, statement]\n",
    "for e in answer:\n",
    "    print(e)"
   ]
  },
  {
   "cell_type": "markdown",
   "metadata": {},
   "source": [
    "4.\tLists, also called vectors, are one dimensional arrays and are a series of items. From the following list what would the question ```apple_list[3]``` return?  Remember we refer to items in a list by their position. Hint – remember how computers count.\n",
    "\t\t\n",
    "\t\t```apple_list=[‘banana’,’pear’,’kumquat’,’pomegranate’,’passion fruit’]```"
   ]
  },
  {
   "cell_type": "code",
   "execution_count": 9,
   "metadata": {},
   "outputs": [
    {
     "name": "stdout",
     "output_type": "stream",
     "text": [
      "When you print apple_list[3], it will return pomegranate\n"
     ]
    }
   ],
   "source": [
    "answer = 'When you print apple_list[3], it will return pomegranate'\n",
    "print(answer)"
   ]
  },
  {
   "cell_type": "markdown",
   "metadata": {},
   "source": [
    "5.\tName a difference between lists and dictionaries?"
   ]
  },
  {
   "cell_type": "code",
   "execution_count": 10,
   "metadata": {},
   "outputs": [
    {
     "name": "stdout",
     "output_type": "stream",
     "text": [
      "Dictionaries have keys and locks which correspond to one another, but have no intrinsic order\n",
      "lists have an intrinsic structure, ranging from list[0] to list [0:]\n"
     ]
    }
   ],
   "source": [
    "answer_part_one = 'Dictionaries have keys and locks which correspond to one another, but have no intrinsic order'\n",
    "answer_part_two = 'lists have an intrinsic structure, ranging from list[0] to list [0:]'\n",
    "answers = [answer_part_one, answer_part_two]\n",
    "for a in answers:\n",
    "    print(a)"
   ]
  },
  {
   "cell_type": "markdown",
   "metadata": {},
   "source": [
    "6.\tWhat would you get from this question from the following dictionary:  ```fruit_dict[‘pear’]```\n",
    "```\t\t\n",
    "\t\tfruit_dict = {}\n",
    "\t\tfruit_dict[‘apple’]=10\n",
    "\t\tfruit_dict[‘pear’] = 3\n",
    "\t\tfruit_dict[‘walnut’]=216\n",
    "```\n",
    "or in another way\n",
    "\n",
    "\n",
    "```\n",
    "fruit_dict = {\n",
    "    'apple':10,\n",
    "    'pear':3,\n",
    "    'walnut':216,\n",
    "}\n",
    "\n",
    "print(fruit_dict)\n",
    "```\n",
    "\n"
   ]
  },
  {
   "cell_type": "code",
   "execution_count": 13,
   "metadata": {},
   "outputs": [
    {
     "name": "stdout",
     "output_type": "stream",
     "text": [
      "either way, you just get a list of dictionaries\n"
     ]
    }
   ],
   "source": [
    "print('either way, you just get a list of dictionaries' )"
   ]
  },
  {
   "cell_type": "markdown",
   "metadata": {},
   "source": [
    "7.\tIn python what does the function ```.replace()``` do?"
   ]
  },
  {
   "cell_type": "code",
   "execution_count": 14,
   "metadata": {},
   "outputs": [
    {
     "name": "stdout",
     "output_type": "stream",
     "text": [
      ".replace() just replaces a specified string with another string.\n",
      " you can use the backslash to exit out of special characters\n"
     ]
    }
   ],
   "source": [
    "print('.replace() just replaces a specified string with another string.' +'\\n'+' you can use the backslash to exit out of special characters')"
   ]
  },
  {
   "cell_type": "markdown",
   "metadata": {},
   "source": [
    "8.\tHow do you print something in python?  For example write a print statement to print “hello world!”"
   ]
  },
  {
   "cell_type": "code",
   "execution_count": 19,
   "metadata": {},
   "outputs": [
    {
     "name": "stdout",
     "output_type": "stream",
     "text": [
      "how many times has someone used hello-world as an example\n",
      "of the print function? 10\n",
      "hello world! hello world! hello world! hello world! hello world! hello world! hello world! hello world! hello world! hello world! \n"
     ]
    }
   ],
   "source": [
    "times_tutorials_use_hello_world_as_example_text = input('how many times has someone used hello-world as an example'+\n",
    "                                                        '\\n'+'of the print function? ')\n",
    "penny = int(times_tutorials_use_hello_world_as_example_text)\n",
    "print('hello world! '*penny)"
   ]
  },
  {
   "cell_type": "markdown",
   "metadata": {},
   "source": [
    "9.\tName one place you can go to get help with python?"
   ]
  },
  {
   "cell_type": "code",
   "execution_count": 20,
   "metadata": {},
   "outputs": [
    {
     "name": "stdout",
     "output_type": "stream",
     "text": [
      "StackOverflow\n",
      "Julie Allen\n"
     ]
    }
   ],
   "source": [
    "answer1 = 'StackOverflow'\n",
    "answer2 = 'Julie Allen'\n",
    "answers = [answer1,answer2]\n",
    "for a in answers:\n",
    "    print(a)"
   ]
  },
  {
   "cell_type": "markdown",
   "metadata": {},
   "source": [
    "10.\tWhat is an ```if``` statement and when would you use one?"
   ]
  },
  {
   "cell_type": "code",
   "execution_count": 29,
   "metadata": {},
   "outputs": [],
   "source": [
    "print('for recursive functions that have conditions')\n"
   ]
  },
  {
   "cell_type": "markdown",
   "metadata": {},
   "source": [
    "11.\tFrom this list:  ```container_list = [‘can’,’jar’,’hat’]``` What would be returned from this: ```container_list[0:2]```.  Hint: Remember one number is inclusive and one exclusive."
   ]
  },
  {
   "cell_type": "code",
   "execution_count": null,
   "metadata": {},
   "outputs": [],
   "source": [
    "print('all of it.')"
   ]
  },
  {
   "cell_type": "markdown",
   "metadata": {},
   "source": [
    "12.\tWhat is the difference between an ```if``` statement and a ```while``` loop?\n"
   ]
  },
  {
   "cell_type": "code",
   "execution_count": null,
   "metadata": {},
   "outputs": [],
   "source": [
    "for_loop = 'For loops commit some function to each specified element'\n",
    "while_loop = 'While loops continue to execute a function until the condition becomes untrue, which stops the while loop'"
   ]
  },
  {
   "cell_type": "markdown",
   "metadata": {},
   "source": [
    "13.\tWhat would you get with the command ```fruit_dict.keys()```  after entering this dictionary:  \n",
    "\t\tfruit_dict = {}\n",
    "\t\tfruit_dict[‘apple’]=10\n",
    "\t\tfruit_dict[‘pear’] = 3\n",
    "\t\tfruit_dict[‘walnut’]=216"
   ]
  },
  {
   "cell_type": "code",
   "execution_count": 33,
   "metadata": {},
   "outputs": [
    {
     "data": {
      "text/plain": [
       "dict_keys(['apple', 'pear', 'walnut'])"
      ]
     },
     "execution_count": 33,
     "metadata": {},
     "output_type": "execute_result"
    }
   ],
   "source": [
    "fruit_dict = {}\n",
    "fruit_dict['apple']=10\n",
    "fruit_dict['pear'] = 3\n",
    "fruit_dict['walnut']=216\n",
    "# if you create the above dictionary, the keys are on the left (ie, the strings here)\n",
    "# if you run\n",
    "fruit_dict.keys()\n",
    "# it will return all of the strings"
   ]
  },
  {
   "cell_type": "markdown",
   "metadata": {},
   "source": [
    "14.\tIn this statement: ```InFileName = open(InFileName, ‘r’)``` what does the ‘r’ indicate ?"
   ]
  },
  {
   "cell_type": "code",
   "execution_count": null,
   "metadata": {},
   "outputs": [],
   "source": [
    "# I'm lazy sorry for switching to comment mode. ugh\n",
    "# 'r' is the default mode arguement for the function open()\n",
    "# open() requires* a mode in order to accurately decode\n",
    "# text files being fed to python.\n",
    "# there are many different arguements, including 'rb' for UTF-8\n",
    "# and 'w' for writing - and that's all I can remember because that's all I use. \n",
    "\n",
    "# there's probably a lot though"
   ]
  },
  {
   "cell_type": "markdown",
   "metadata": {},
   "source": [
    "15.\tWhat does this command do? ```Line.strip(‘\\n’)``` why would you use it when printing out lines to the screen?"
   ]
  },
  {
   "cell_type": "markdown",
   "metadata": {},
   "source": [
    "# removes line endings except when '\\n' isn't your line ending\n",
    "# @ WINDOWS\n",
    "sorry i think big text is funny"
   ]
  },
  {
   "cell_type": "markdown",
   "metadata": {},
   "source": [
    "16.\tHow would you split a line from a csv file into a list"
   ]
  },
  {
   "cell_type": "code",
   "execution_count": null,
   "metadata": {},
   "outputs": [],
   "source": [
    "# personally, I'd do something like this:\n",
    "import csv\n",
    "with open('some_friggin_file.csv', newline='') as csvfile:\n",
    "    lines = csv.reader(csvfile, delimiter=',', quotechar='|')# file dependent, but when it's cleaned in r this works\n",
    "    for row in lines:\n",
    "        row_list = row.split(',') # the default will be split by comma, normally, when using a CSV\n",
    "        # but CSVs can also be Tab delimited, in which case use .split('\\t')"
   ]
  },
  {
   "cell_type": "markdown",
   "metadata": {},
   "source": [
    "## Part II:  Practice Scripts\n",
    "Below each question write the name of the script so I can find them. All scripts should be documented with in-line documentation."
   ]
  },
  {
   "cell_type": "markdown",
   "metadata": {},
   "source": [
    "1.\tCreate a documented python script that would \n",
    "\n",
    "\t\t**a.** take this number 112345678911234566 and count the number of 2s in the string and print out the number. \n",
    "\n",
    "\t\t**b.** take a sentence from user input, turn it all to lowercase letters and remove the spaces and count the length and print out the length.  You choose the sentence. \n"
   ]
  },
  {
   "cell_type": "code",
   "execution_count": 47,
   "metadata": {},
   "outputs": [
    {
     "name": "stdout",
     "output_type": "stream",
     "text": [
      "['11', '345678911', '34566']\n"
     ]
    },
    {
     "ename": "TypeError",
     "evalue": "'int' object is not callable",
     "output_type": "error",
     "traceback": [
      "\u001b[0;31m---------------------------------------------------------------------------\u001b[0m",
      "\u001b[0;31mTypeError\u001b[0m                                 Traceback (most recent call last)",
      "\u001b[0;32m/tmp/ipykernel_400389/3711924896.py\u001b[0m in \u001b[0;36m<module>\u001b[0;34m\u001b[0m\n\u001b[1;32m      2\u001b[0m \u001b[0mobjl\u001b[0m \u001b[0;34m=\u001b[0m \u001b[0mobj\u001b[0m\u001b[0;34m.\u001b[0m\u001b[0msplit\u001b[0m\u001b[0;34m(\u001b[0m\u001b[0;34m'2'\u001b[0m\u001b[0;34m)\u001b[0m\u001b[0;34m\u001b[0m\u001b[0;34m\u001b[0m\u001b[0m\n\u001b[1;32m      3\u001b[0m \u001b[0mprint\u001b[0m\u001b[0;34m(\u001b[0m\u001b[0mobjl\u001b[0m\u001b[0;34m)\u001b[0m\u001b[0;34m\u001b[0m\u001b[0;34m\u001b[0m\u001b[0m\n\u001b[0;32m----> 4\u001b[0;31m \u001b[0mz\u001b[0m \u001b[0;34m=\u001b[0m \u001b[0mlen\u001b[0m\u001b[0;34m(\u001b[0m\u001b[0mobjl\u001b[0m\u001b[0;34m)\u001b[0m\u001b[0;34m\u001b[0m\u001b[0;34m\u001b[0m\u001b[0m\n\u001b[0m\u001b[1;32m      5\u001b[0m \u001b[0mprint\u001b[0m\u001b[0;34m(\u001b[0m\u001b[0mz\u001b[0m\u001b[0;34m-\u001b[0m\u001b[0;36m1\u001b[0m\u001b[0;34m)\u001b[0m\u001b[0;34m\u001b[0m\u001b[0;34m\u001b[0m\u001b[0m\n",
      "\u001b[0;31mTypeError\u001b[0m: 'int' object is not callable"
     ]
    }
   ],
   "source": [
    "obj = '112345678911234566'\n",
    "objl = obj.split('2')\n",
    "print(objl)\n",
    "z = len(objl)\n",
    "print(z-1)"
   ]
  },
  {
   "cell_type": "markdown",
   "metadata": {},
   "source": [
    "2.\tCreate a documented python script that will do the following two things. For each task, first write the pseudocode, comment out the pseudocode and beneath the pseudocode write the script.\n",
    "\n",
    "\t\t**a.** Create a list of numbers (any numbers you like). Then loop through the items in the list adding 1 to every number and print those numbers.\n",
    "\n",
    "\t\t**b.** Create a dictionary of animals and their sizes (make up whatever you want). Print out the keys of the dictionary. Make a list of all the animals and then write an if else statement to print out the animal name and the word “big” if the weight is over 20 grams and the word “small” if the weight is less than 20 grams. "
   ]
  },
  {
   "cell_type": "code",
   "execution_count": 66,
   "metadata": {},
   "outputs": [
    {
     "name": "stdout",
     "output_type": "stream",
     "text": [
      "[3, 15, 23, 3, 11, 1]\n",
      "31\n",
      "151\n",
      "231\n",
      "31\n",
      "111\n",
      "11\n"
     ]
    }
   ],
   "source": [
    "# task: create list of numbers\n",
    "# add 1 to each number and print it\n",
    "import random as r\n",
    "l = []\n",
    "range = ['','','','','',''] #Jupyter is acting wonky, and won't let me define a range as in int. ? what is going on\n",
    "for _ in range:\n",
    "    l.append(r.randint(1,25)) # random ints in list from range\n",
    "print(l)\n",
    "# here, I'm creating a list of a set length, and populating it by creating a range that is the length of another list\n",
    "for i in l: # for number in list, l\n",
    "    numb = str(i) # number = number (i) as string\n",
    "    numb1 = numb + '1' # the length of the list should be the number of 2s minus one, since it splits at '2'\n",
    "    print(numb1)\n",
    "\n"
   ]
  },
  {
   "cell_type": "code",
   "execution_count": 78,
   "metadata": {},
   "outputs": [
    {
     "name": "stdout",
     "output_type": "stream",
     "text": [
      "dict_keys(['duck', 'moose', 'dog', 'tortoise'])\n",
      "small\n",
      "big\n",
      "big\n",
      "big\n"
     ]
    }
   ],
   "source": [
    "animals = {} # dictionary list empty\n",
    "animals['duck'] = 1         # populating the list from here,\n",
    "animals['moose'] = 1200\n",
    "animals['dog'] = 40\n",
    "animals['tortoise'] = 30    # to here, where the str is the animal, and the int is the weight.\n",
    "print(animals.keys()) # printing the keys (the strs)\n",
    "for i in animals.values():\n",
    "    if i >= 20:\n",
    "        print('big')      # if the value (the int) is greater than 20, print big\n",
    "    else:\n",
    "        print('small')     # if it less than 20, it prints small.\n",
    "\n",
    "    "
   ]
  },
  {
   "cell_type": "markdown",
   "metadata": {},
   "source": [
    "3.\tCreate a documented python script that will open up the file “Bloom_etal_2018_Reduced_Dataset”.  Read through the file and print out the taxon name and their diadromous status. Add up all of the log body sizes and print out the total log body size for all the individuals in the file.  "
   ]
  },
  {
   "cell_type": "code",
   "execution_count": 121,
   "metadata": {},
   "outputs": [
    {
     "name": "stdout",
     "output_type": "stream",
     "text": [
      "Alosa_alabamae, diadromous\n",
      "Alosa_alosa, diadromous\n",
      "Alosa_fallax, diadromous\n",
      "Alosa_mediocris, diadromous\n",
      "Alosa_pseudoharengus, diadromous\n",
      "Alosa_sapidissima, diadromous\n",
      "Amazonsprattus_scintilla, non-diadromous\n",
      "Anchoa_chamensis, non-diadromous\n",
      "Anchoa_cubana, non-diadromous\n",
      "Anchoa_delicatissima, non-diadromous\n",
      "Anchoa_lamprotaenia, non-diadromous\n",
      "Anchoa_lyolepis, non-diadromous\n",
      "Anchoa_parva, non-diadromous\n",
      "Anchoa_schofieldi, non-diadromous\n",
      "Anchovia_surinamensis, non-diadromous\n",
      "Anchoviella_balboae, non-diadromous\n",
      "Anchoviella_brevirostris, non-diadromous\n",
      "Anchoviella_jamesi, non-diadromous\n",
      "Anchoviella_lepidentostole, diadromous\n",
      "Anchoviella_manamensis, non-diadromous\n",
      "Anodontostoma_chacunda, diadromous\n",
      "Cetengraulis_edentulus, non-diadromous\n",
      "Chirocentrodon_bleekerianus, non-diadromous\n",
      "Clupeichthys_perakensis, non-diadromous\n",
      "Clupeoides_borneensis, non-diadromous\n",
      "Coilia_nasus, diadromous\n",
      "Ehirava_fluviatilis, non-diadromous\n",
      "Encrasicholina_devisi, non-diadromous\n",
      "Engraulis_eurystole, non-diadromous\n",
      "Escualosa_thoracata, non-diadromous\n",
      "Ethmalosa_fimbriata, diadromous\n",
      "Gilchristella_aestuaria, non-diadromous\n",
      "Hilsa_kelee, diadromous\n",
      "Hyperlophus_vittatus, non-diadromous\n",
      "Jenkinsia_lamprotaenia, non-diadromous\n",
      "Microthrissa_congica, non-diadromous\n",
      "Pellona_harroweri, non-diadromous\n",
      "Pellonula_leonensis, diadromous\n",
      "Pellonula_vorax, diadromous\n",
      "Potamalosa_richmondia, diadromous\n",
      "Ramnogaster_sp, non-diadromous\n",
      "Rhinosardinia_bahiensis, non-diadromous\n",
      "Sauvagella_robusta, non-diadromous\n",
      "Sierrathrissa_leonensis, non-diadromous\n",
      "Spratelloides_delicatulus, non-diadromous\n",
      "Stolephorus_waitei, non-diadromous\n",
      "Stolothrissa_tanganicae, non-diadromous\n",
      "Sundasalanx_mekongensis, non-diadromous\n",
      "Tenualosa_ilisha, diadromous\n",
      "Thryssa_cf_dussumieri, non-diadromous\n"
     ]
    },
    {
     "ename": "TypeError",
     "evalue": "'list' object is not callable",
     "output_type": "error",
     "traceback": [
      "\u001b[0;31m---------------------------------------------------------------------------\u001b[0m",
      "\u001b[0;31mTypeError\u001b[0m                                 Traceback (most recent call last)",
      "\u001b[0;32m/tmp/ipykernel_400389/3155399086.py\u001b[0m in \u001b[0;36m<module>\u001b[0;34m\u001b[0m\n\u001b[1;32m      9\u001b[0m         \u001b[0msuml\u001b[0m\u001b[0;34m.\u001b[0m\u001b[0mappend\u001b[0m\u001b[0;34m(\u001b[0m\u001b[0ml\u001b[0m\u001b[0;34m)\u001b[0m\u001b[0;34m\u001b[0m\u001b[0;34m\u001b[0m\u001b[0m\n\u001b[1;32m     10\u001b[0m         \u001b[0mprint\u001b[0m\u001b[0;34m(\u001b[0m\u001b[0mrow\u001b[0m\u001b[0;34m[\u001b[0m\u001b[0;36m0\u001b[0m\u001b[0;34m]\u001b[0m \u001b[0;34m+\u001b[0m \u001b[0;34m', '\u001b[0m\u001b[0;34m+\u001b[0m \u001b[0mrow\u001b[0m\u001b[0;34m[\u001b[0m\u001b[0;36m3\u001b[0m\u001b[0;34m]\u001b[0m\u001b[0;34m)\u001b[0m\u001b[0;34m\u001b[0m\u001b[0;34m\u001b[0m\u001b[0m\n\u001b[0;32m---> 11\u001b[0;31m \u001b[0mprint\u001b[0m\u001b[0;34m(\u001b[0m\u001b[0msum\u001b[0m\u001b[0;34m(\u001b[0m\u001b[0msuml\u001b[0m\u001b[0;34m)\u001b[0m\u001b[0;34m)\u001b[0m\u001b[0;34m\u001b[0m\u001b[0;34m\u001b[0m\u001b[0m\n\u001b[0m",
      "\u001b[0;31mTypeError\u001b[0m: 'list' object is not callable"
     ]
    }
   ],
   "source": [
    "import csv # import csv using csv instead of pandas, because I'm not a chump.\n",
    "suml = [] # empty list.\n",
    "# notice; I figured out why Jupyter does not work; it is part of how temporary objs are stored\n",
    "# Unsure why different machines produce different results, but I checked online and others have the same issues.\n",
    "# this code runs fine in other Python GUIs as well as in the terminal; the issue is that\n",
    "# Jupyter won't call lists--- for some reason I'm not totally sure I understand.... anyway.\n",
    "with open('Bloom_etal_2018_Reduced_Dataset.csv', newline='') as csvfile: # read in csv\n",
    "    next(csvfile) # skip that pesky header\n",
    "    lines = csv.reader(csvfile, delimiter=',', quotechar='|')# file dependent, but when it's cleaned in r this works\n",
    "    for row in lines: # for item in newly split (done in line above) line (so it's a list now)\n",
    "        l = float(row[1]) # convert strs to floats\n",
    "        suml.append(l) # append the empty list, suml (which you can see above)\n",
    "        print(row[0] + ', '+ row[3]) # print the nomenclature and diadromous status\n",
    "print(sum(suml)) # print the sum of the log body sizes. \n",
    "# I'm not sure why you'd ever do this. Maybe I misunderstood the directions\n",
    "\n",
    "\n",
    "# should provide all the names and statuses, minus the header, and then throw an error if your Jupyter is as messed\n",
    "# up as mine.\n",
    "# cool beans!"
   ]
  },
  {
   "cell_type": "code",
   "execution_count": null,
   "metadata": {},
   "outputs": [],
   "source": []
  }
 ],
 "metadata": {
  "kernelspec": {
   "display_name": "Python 3 (ipykernel)",
   "language": "python",
   "name": "python3"
  },
  "language_info": {
   "codemirror_mode": {
    "name": "ipython",
    "version": 3
   },
   "file_extension": ".py",
   "mimetype": "text/x-python",
   "name": "python",
   "nbconvert_exporter": "python",
   "pygments_lexer": "ipython3",
   "version": "3.8.10"
  }
 },
 "nbformat": 4,
 "nbformat_minor": 4
}
